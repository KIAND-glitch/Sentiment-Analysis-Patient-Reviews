{
 "cells": [
  {
   "cell_type": "code",
   "execution_count": 154,
   "id": "f316a11b-003e-45fb-a798-5046af8ff00e",
   "metadata": {},
   "outputs": [],
   "source": [
    "import pandas as pd\n",
    "import matplotlib.pyplot as plt\n",
    "from sklearn.dummy import DummyClassifier\n",
    "from sklearn.metrics import accuracy_score\n",
    "from sklearn.tree import DecisionTreeClassifier\n",
    "from sklearn.neighbors import KNeighborsClassifier\n",
    "from sklearn.naive_bayes import MultinomialNB\n",
    "from sklearn.metrics import ConfusionMatrixDisplay\n",
    "from sklearn import svm\n",
    "from sklearn.neural_network import MLPClassifier\n",
    "from sklearn.linear_model import LogisticRegression\n",
    "from sklearn.model_selection import GridSearchCV\n",
    "from sklearn.metrics import confusion_matrix\n",
    "from sklearn.metrics import classification_report"
   ]
  },
  {
   "cell_type": "code",
   "execution_count": 155,
   "id": "d4bf6dd8-bfff-4bd0-a4e0-0bba7eb58b83",
   "metadata": {},
   "outputs": [],
   "source": [
    "#import data\n",
    "\n",
    "#train dataset\n",
    "train_raw = pd.read_csv('TRAIN.csv')\n",
    "train_emb = pd.read_csv('384EMBEDDINGS_TRAIN.csv')\n",
    "train_tfidf = pd.read_csv('TFIDF_TRAIN.csv')\n",
    "\n",
    "#valid dataset\n",
    "validation_raw = pd.read_csv('VALIDATION.csv')\n",
    "validation_emb = pd.read_csv('384EMBEDDINGS_VALIDATION.csv')\n",
    "validation_tfidf = pd.read_csv('TFIDF_VALIDATION.csv')\n",
    "\n",
    "#test dataset\n",
    "test_raw = pd.read_csv('TEST_NO_LABELS.csv')\n",
    "test_emb = pd.read_csv('384EMBEDDINGS_TEST.csv')\n",
    "test_tfidf = pd.read_csv('TFIDF_TEST.csv')\n"
   ]
  },
  {
   "cell_type": "code",
   "execution_count": 157,
   "id": "e8569d0c-e43d-49b5-9c42-c3a216241b74",
   "metadata": {},
   "outputs": [],
   "source": [
    "# List of all datasets\n",
    "datasets = [train_raw, train_emb, train_tfidf, validation_raw, validation_emb, validation_tfidf, test_raw, test_emb, test_tfidf]\n",
    "\n",
    "# Drop 'Unnamed' column from each dataset\n",
    "for dataset in datasets:\n",
    "    if 'Unnamed: 0' in dataset.columns:\n",
    "        dataset.drop(columns=['Unnamed: 0'], inplace=True)\n"
   ]
  },
  {
   "cell_type": "code",
   "execution_count": 158,
   "id": "4860a48b-7636-490c-b388-dc441445a9fd",
   "metadata": {
    "scrolled": true
   },
   "outputs": [
    {
     "name": "stdout",
     "output_type": "stream",
     "text": [
      "<class 'pandas.core.frame.DataFrame'>\n",
      "RangeIndex: 43003 entries, 0 to 43002\n",
      "Data columns (total 4 columns):\n",
      " #   Column               Non-Null Count  Dtype  \n",
      "---  ------               --------------  -----  \n",
      " 0   dr-id-adjusted       43003 non-null  int64  \n",
      " 1   dr_id_gender         43003 non-null  float64\n",
      " 2   review-text-cleaned  43003 non-null  object \n",
      " 3   rating               43003 non-null  int64  \n",
      "dtypes: float64(1), int64(2), object(1)\n",
      "memory usage: 1.3+ MB\n",
      "None\n"
     ]
    }
   ],
   "source": [
    "# Check basic info about the training dataset\n",
    "print(train_raw.info())"
   ]
  },
  {
   "cell_type": "code",
   "execution_count": 159,
   "id": "f92544d2-d5ed-48e0-a9e0-6ae0c135d7c5",
   "metadata": {},
   "outputs": [
    {
     "name": "stdout",
     "output_type": "stream",
     "text": [
      "rating\n",
      " 1    30874\n",
      "-1    12129\n",
      "Name: count, dtype: int64\n"
     ]
    }
   ],
   "source": [
    "# Check the distribution of sentiment labels\n",
    "print(train_raw['rating'].value_counts())"
   ]
  },
  {
   "cell_type": "code",
   "execution_count": 160,
   "id": "14d4650e-ebc9-4409-a050-a5fec6508af8",
   "metadata": {},
   "outputs": [
    {
     "data": {
      "text/plain": [
       "dr_id_gender\n",
       "1.0    27511\n",
       "0.0    12141\n",
       "2.0     3351\n",
       "Name: count, dtype: int64"
      ]
     },
     "execution_count": 160,
     "metadata": {},
     "output_type": "execute_result"
    }
   ],
   "source": [
    "# gender counts in training\n",
    "train_raw['dr_id_gender'].value_counts()"
   ]
  },
  {
   "cell_type": "code",
   "execution_count": 187,
   "id": "60078fe9-b4e9-4395-acd4-207444ccbbe1",
   "metadata": {},
   "outputs": [
    {
     "name": "stdout",
     "output_type": "stream",
     "text": [
      "rating          -1      1\n",
      "dr_id_gender             \n",
      "0.0           3828   8313\n",
      "1.0           7498  20013\n",
      "2.0            803   2548\n"
     ]
    }
   ],
   "source": [
    "gender_rating_distribution = train_raw.groupby('dr_id_gender')['rating'].value_counts().unstack(fill_value=0)\n",
    "# Display the distribution\n",
    "print(gender_rating_distribution)"
   ]
  },
  {
   "cell_type": "code",
   "execution_count": 176,
   "id": "61baf7b8-590b-4a96-bcb6-535a987b6c9c",
   "metadata": {},
   "outputs": [
    {
     "data": {
      "text/plain": [
       "dr_id_gender\n",
       "1.0    3584\n",
       "0.0    1497\n",
       "2.0     419\n",
       "Name: count, dtype: int64"
      ]
     },
     "execution_count": 176,
     "metadata": {},
     "output_type": "execute_result"
    }
   ],
   "source": [
    "# gender counts in training\n",
    "validation_raw['dr_id_gender'].value_counts()"
   ]
  },
  {
   "cell_type": "code",
   "execution_count": 161,
   "id": "f420a3c0-04a4-4083-9bfa-6b254f713c87",
   "metadata": {},
   "outputs": [],
   "source": [
    "male_data = train_raw[train_raw['dr_id_gender'] == 1.0]\n",
    "female_data = train_raw[train_raw['dr_id_gender'] == 0.0]\n",
    "unknown_gender_data = train_raw[train_raw['dr_id_gender'] == 2.0]"
   ]
  },
  {
   "cell_type": "code",
   "execution_count": 162,
   "id": "a533da23-0d18-49a2-bff5-4dd861fa523f",
   "metadata": {},
   "outputs": [],
   "source": [
    "male_indices = validation_raw[validation_raw['dr_id_gender'] == 1.0].index\n",
    "female_indices = validation_raw[validation_raw['dr_id_gender'] == 2.0].index\n",
    "unknown_gender_indices = validation_raw[validation_raw['dr_id_gender'] == 2.0].index\n",
    "\n",
    "validation_male_tfidf = validation_tfidf.iloc[male_indices]\n",
    "validation_female_tfidf = validation_tfidf.iloc[female_indices]\n",
    "validation_unknown_tfidf = validation_tfidf.iloc[unknown_gender_indices]\n",
    "\n",
    "validation_male_emb = validation_emb.iloc[male_indices]\n",
    "validation_female_emb = validation_emb.iloc[female_indices]\n",
    "validation_unknown_emb = validation_emb.iloc[unknown_gender_indices]\n"
   ]
  },
  {
   "cell_type": "code",
   "execution_count": 163,
   "id": "46329aa5-687e-4c22-91de-6fbc4ff8f68e",
   "metadata": {},
   "outputs": [
    {
     "data": {
      "image/png": "[encoded data removed]",
      "text/plain": [
       "<Figure size 640x480 with 1 Axes>"
      ]
     },
     "metadata": {},
     "output_type": "display_data"
    }
   ],
   "source": [
    "import matplotlib.pyplot as plt\n",
    "\n",
    "ratings = train_raw['rating'].value_counts()\n",
    "\n",
    "ratings.plot(kind='bar')\n",
    "plt.xlabel('Ratings')\n",
    "plt.ylabel('Count')\n",
    "plt.xticks(rotation=0)  # Rotates x-axis labels for better display\n",
    "plt.title('Distribution of Ratings')\n",
    "plt.show()"
   ]
  },
  {
   "cell_type": "code",
   "execution_count": 164,
   "id": "e9534057-505f-4ea3-b17d-d4a9aee2ff80",
   "metadata": {},
   "outputs": [
    {
     "data": {
      "image/png": "[encoded data removed]",
      "text/plain": [
       "<Figure size 1500x500 with 3 Axes>"
      ]
     },
     "metadata": {},
     "output_type": "display_data"
    }
   ],
   "source": [
    "import matplotlib.pyplot as plt\n",
    "\n",
    "# Define a figure and layout\n",
    "fig, ax = plt.subplots(nrows=1, ncols=3, figsize=(15, 5))\n",
    "\n",
    "# Male data plot\n",
    "male_ratings = male_data['rating'].value_counts()\n",
    "ax[0].bar(male_ratings.index, male_ratings.values)\n",
    "ax[0].set_xlabel('Ratings')\n",
    "ax[0].set_ylabel('Count')\n",
    "ax[0].set_title('Male Doctors')\n",
    "ax[0].set_xticks([-1, 1])\n",
    "ax[0].set_xticklabels(['-1', '1'])\n",
    "\n",
    "# Female data plot\n",
    "female_ratings = female_data['rating'].value_counts()\n",
    "ax[1].bar(female_ratings.index, female_ratings.values)\n",
    "ax[1].set_xlabel('Ratings')\n",
    "ax[1].set_ylabel('Count')\n",
    "ax[1].set_title('Female Doctors')\n",
    "ax[1].set_xticks([-1, 1])\n",
    "ax[1].set_xticklabels(['-1', '1'])\n",
    "\n",
    "# Unknown gender data plot\n",
    "unknown_gender_ratings = unknown_gender_data['rating'].value_counts()\n",
    "ax[2].bar(unknown_gender_ratings.index, unknown_gender_ratings.values)\n",
    "ax[2].set_xlabel('Ratings')\n",
    "ax[2].set_ylabel('Count')\n",
    "ax[2].set_title('Unknown Gender Doctors')\n",
    "ax[2].set_xticks([-1, 1])\n",
    "ax[2].set_xticklabels(['-1', '1'])\n",
    "\n",
    "# Ensure layouts are non-overlapping\n",
    "plt.tight_layout()\n",
    "plt.show()\n"
   ]
  },
  {
   "cell_type": "markdown",
   "id": "c02c6ccb-3f99-4623-b898-f62f1e8afbf7",
   "metadata": {},
   "source": [
    "# Baseline Model \n",
    "## Zero R"
   ]
  },
  {
   "cell_type": "code",
   "execution_count": 165,
   "id": "a11f7fdf-2452-4cdf-8e5e-8081b03e3c00",
   "metadata": {},
   "outputs": [
    {
     "name": "stdout",
     "output_type": "stream",
     "text": [
      "ZeroR Classifier Accuracy on Validation Data: 73.42%\n",
      "\n",
      "\n",
      "ZeroR Classifier Accuracy for Males: 72.57%\n",
      "ZeroR Classifier Accuracy for Females: 73.81%\n",
      "ZeroR Classifier Accuracy for Unknown Gender : 79.24%\n"
     ]
    }
   ],
   "source": [
    "from sklearn.dummy import DummyClassifier\n",
    "from sklearn.metrics import accuracy_score\n",
    "\n",
    "# Initialize the ZeroR classifier\n",
    "zero_r = DummyClassifier(strategy='most_frequent')\n",
    "\n",
    "# Fit on training data\n",
    "zero_r.fit(train_raw[['review-text-cleaned']], train_raw['rating'])\n",
    "\n",
    "# Predict on validation data\n",
    "y_pred = zero_r.predict(validation_raw[['review-text-cleaned']])\n",
    "accuracy = accuracy_score(validation_raw['rating'], y_pred)\n",
    "print(f'ZeroR Classifier Accuracy on Validation Data: {accuracy * 100:.2f}%')\n",
    "print(\"\\n\")\n",
    "# Check accuracy on gender subsets\n",
    "genders = [1.0, 0.0, 2.0]  # 1.0: male, 0.0: female, 2.0: unknown \n",
    "\n",
    "for gender in genders:\n",
    "    subset_data = validation_raw[validation_raw['dr_id_gender'] == gender]\n",
    "    y_true_subset = subset_data['rating']\n",
    "    y_pred_subset = zero_r.predict(subset_data[['review-text-cleaned']])\n",
    "    accuracy_subset = accuracy_score(y_true_subset, y_pred_subset)\n",
    "    if gender == 1.0:\n",
    "        print(f'ZeroR Classifier Accuracy for Males: {accuracy_subset * 100:.2f}%')\n",
    "    elif gender == 0.0:\n",
    "        print(f'ZeroR Classifier Accuracy for Females: {accuracy_subset * 100:.2f}%')\n",
    "    elif gender == 2.0:\n",
    "        print(f'ZeroR Classifier Accuracy for Unknown Gender : {accuracy_subset * 100:.2f}%')\n"
   ]
  },
  {
   "cell_type": "markdown",
   "id": "442302f7-53f8-4ac5-be37-bb5dd2ba6fc3",
   "metadata": {},
   "source": [
    "# Supervised Learning "
   ]
  },
  {
   "attachments": {},
   "cell_type": "markdown",
   "id": "66325851-a888-403b-ae0d-3c3032731126",
   "metadata": {},
   "source": [
    "## Multi Layer Perceptron (MLP)\n",
    "\n",
    "### MLP on tfidf"
   ]
  },
  {
   "cell_type": "code",
   "execution_count": 150,
   "id": "9faa0ad7-5cbb-4afc-a2e9-df54c7b62d9b",
   "metadata": {},
   "outputs": [
    {
     "name": "stdout",
     "output_type": "stream",
     "text": [
      "Accuracy of MLP (tfidf):  0.9027272727272727\n"
     ]
    }
   ],
   "source": [
    "#multilayer perceptron on TFIDF\n",
    "MLP_tfidf = MLPClassifier(hidden_layer_sizes=(400, 200, 100, 50), learning_rate='adaptive', max_iter=100, early_stopping=True)\n",
    "MLP_tfidf.fit(train_tfidf, train_raw['rating'])\n",
    "accuracy = MLP_tfidf.score(validation_tfidf, validation_raw['rating'])\n",
    "print(\"Accuracy of MLP (tfidf): \", accuracy)"
   ]
  },
  {
   "cell_type": "code",
   "execution_count": 151,
   "id": "9671b1bd-8027-4d4f-8318-cf350a5823d3",
   "metadata": {},
   "outputs": [
    {
     "data": {
      "text/plain": [
       "array([[1258,  204],\n",
       "       [ 331, 3707]])"
      ]
     },
     "execution_count": 151,
     "metadata": {},
     "output_type": "execute_result"
    }
   ],
   "source": [
    "confusion_matrix(validation_raw['rating'], MLP_tfidf.predict(validation_tfidf))"
   ]
  },
  {
   "cell_type": "code",
   "execution_count": 168,
   "id": "2384d6ed-cace-4855-a3a4-db83e291e323",
   "metadata": {},
   "outputs": [
    {
     "name": "stdout",
     "output_type": "stream",
     "text": [
      "              precision    recall  f1-score   support\n",
      "\n",
      "          -1       0.79      0.86      0.82      1462\n",
      "           1       0.95      0.92      0.93      4038\n",
      "\n",
      "    accuracy                           0.90      5500\n",
      "   macro avg       0.87      0.89      0.88      5500\n",
      "weighted avg       0.91      0.90      0.90      5500\n",
      "\n"
     ]
    }
   ],
   "source": [
    "print(classification_report(validation_raw['rating'], MLP_tfidf.predict(validation_tfidf)))"
   ]
  },
  {
   "cell_type": "markdown",
   "id": "2396a609-fe72-4628-a426-2837c2258ac1",
   "metadata": {},
   "source": [
    "### MLP on emb"
   ]
  },
  {
   "cell_type": "code",
   "execution_count": 147,
   "id": "64a9d857-d6f9-46e5-b965-23b49cd10bb3",
   "metadata": {},
   "outputs": [
    {
     "name": "stdout",
     "output_type": "stream",
     "text": [
      "Accuracy of MLP (emb):  0.9178181818181819\n"
     ]
    }
   ],
   "source": [
    "#multilayer perceptron on emb\n",
    "MLP_emb = MLPClassifier(hidden_layer_sizes=(400, 200, 100, 50), learning_rate='adaptive', max_iter=100, early_stopping=True)\n",
    "MLP_emb.fit(train_emb, train_raw['rating'])\n",
    "accuracy = MLP_emb.score(validation_emb, validation_raw['rating'])\n",
    "print(\"Accuracy of MLP (emb): \", accuracy)"
   ]
  },
  {
   "cell_type": "code",
   "execution_count": 148,
   "id": "554f67a6-3871-4201-a486-b9f42c7aeebc",
   "metadata": {},
   "outputs": [
    {
     "data": {
      "text/plain": [
       "array([[1220,  242],\n",
       "       [ 210, 3828]])"
      ]
     },
     "execution_count": 148,
     "metadata": {},
     "output_type": "execute_result"
    }
   ],
   "source": [
    "confusion_matrix(validation_raw['rating'], MLP_emb.predict(validation_emb))"
   ]
  },
  {
   "cell_type": "code",
   "execution_count": 169,
   "id": "0829e4ba-e8f9-4795-9d89-1e75f9e5553b",
   "metadata": {},
   "outputs": [
    {
     "name": "stdout",
     "output_type": "stream",
     "text": [
      "              precision    recall  f1-score   support\n",
      "\n",
      "          -1       0.85      0.83      0.84      1462\n",
      "           1       0.94      0.95      0.94      4038\n",
      "\n",
      "    accuracy                           0.92      5500\n",
      "   macro avg       0.90      0.89      0.89      5500\n",
      "weighted avg       0.92      0.92      0.92      5500\n",
      "\n"
     ]
    }
   ],
   "source": [
    "print(classification_report(validation_raw['rating'], MLP_emb.predict(validation_emb)))"
   ]
  },
  {
   "cell_type": "markdown",
   "id": "b7b3d505-fb8e-44d5-924f-bbc2212a1dc5",
   "metadata": {},
   "source": [
    "## Support Vector Machine (SVM)"
   ]
  },
  {
   "cell_type": "markdown",
   "id": "b5532471-7bab-41e7-a58b-a2e3e27d7f77",
   "metadata": {},
   "source": [
    "### SVM on tfidf"
   ]
  },
  {
   "cell_type": "code",
   "execution_count": 67,
   "id": "c7df1e51-ba1f-4994-a275-76880fc2d361",
   "metadata": {},
   "outputs": [
    {
     "name": "stdout",
     "output_type": "stream",
     "text": [
      "Accuracy of SVM (TFIDF):  0.9107272727272727\n"
     ]
    }
   ],
   "source": [
    "SVM_tfidf = svm.SVC()\n",
    "SVM_tfidf.fit(train_tfidf, train_raw['rating'])\n",
    "accuracy = SVM_tfidf.score(validation_tfidf, validation_raw['rating'])\n",
    "print(\"Accuracy of SVM (TFIDF): \", accuracy)"
   ]
  },
  {
   "cell_type": "code",
   "execution_count": 144,
   "id": "7b3863be-bab2-45ad-8f4b-26ec29ec54e6",
   "metadata": {},
   "outputs": [
    {
     "data": {
      "text/plain": [
       "array([[1257,  205],\n",
       "       [ 286, 3752]])"
      ]
     },
     "execution_count": 144,
     "metadata": {},
     "output_type": "execute_result"
    }
   ],
   "source": [
    "confusion_matrix(validation_raw['rating'], SVM_tfidf.predict(validation_tfidf))"
   ]
  },
  {
   "cell_type": "code",
   "execution_count": 172,
   "id": "598e5821-3e75-4d13-8dd5-5bb062f538c3",
   "metadata": {},
   "outputs": [
    {
     "name": "stdout",
     "output_type": "stream",
     "text": [
      "              precision    recall  f1-score   support\n",
      "\n",
      "          -1       0.81      0.86      0.84      1462\n",
      "           1       0.95      0.93      0.94      4038\n",
      "\n",
      "    accuracy                           0.91      5500\n",
      "   macro avg       0.88      0.89      0.89      5500\n",
      "weighted avg       0.91      0.91      0.91      5500\n",
      "\n"
     ]
    }
   ],
   "source": [
    "print(classification_report(validation_raw['rating'], SVM_tfidf.predict(validation_tfidf)))"
   ]
  },
  {
   "cell_type": "markdown",
   "id": "74acdc29-58d3-4126-bf96-3a9465a750af",
   "metadata": {},
   "source": [
    "### SVM on emb"
   ]
  },
  {
   "cell_type": "code",
   "execution_count": 111,
   "id": "dcb9596d-be78-4e3a-bf04-a0d43d395ece",
   "metadata": {},
   "outputs": [
    {
     "name": "stdout",
     "output_type": "stream",
     "text": [
      "Accuracy of SVM (Emb):  0.926\n"
     ]
    }
   ],
   "source": [
    "#support vector machine on embeddings\n",
    "SVM_emb = svm.SVC()\n",
    "SVM_emb.fit(train_emb, train_raw['rating'])\n",
    "accuracy = SVM_emb.score(validation_emb, validation_raw['rating'])\n",
    "print(\"Accuracy of SVM (Emb): \", accuracy)"
   ]
  },
  {
   "cell_type": "code",
   "execution_count": 145,
   "id": "48dc7e3b-2930-4d5a-8421-532ebe6888b6",
   "metadata": {},
   "outputs": [
    {
     "data": {
      "text/plain": [
       "array([[1245,  217],\n",
       "       [ 190, 3848]])"
      ]
     },
     "execution_count": 145,
     "metadata": {},
     "output_type": "execute_result"
    }
   ],
   "source": [
    "confusion_matrix(validation_raw['rating'], SVM_emb.predict(validation_emb))"
   ]
  },
  {
   "cell_type": "code",
   "execution_count": 173,
   "id": "eb5c364d-11ac-4ff8-9291-279d2e7f3339",
   "metadata": {},
   "outputs": [
    {
     "name": "stdout",
     "output_type": "stream",
     "text": [
      "              precision    recall  f1-score   support\n",
      "\n",
      "          -1       0.87      0.85      0.86      1462\n",
      "           1       0.95      0.95      0.95      4038\n",
      "\n",
      "    accuracy                           0.93      5500\n",
      "   macro avg       0.91      0.90      0.90      5500\n",
      "weighted avg       0.93      0.93      0.93      5500\n",
      "\n"
     ]
    }
   ],
   "source": [
    "print(classification_report(validation_raw['rating'], SVM_emb.predict(validation_emb)))"
   ]
  },
  {
   "cell_type": "markdown",
   "id": "73d05298-7cfe-4bc9-b119-324d9caf8638",
   "metadata": {},
   "source": [
    "### Optimise SVM"
   ]
  },
  {
   "cell_type": "code",
   "execution_count": 75,
   "id": "ae8d69ea-780b-40db-bcd2-ff4856a0f6e6",
   "metadata": {},
   "outputs": [
    {
     "name": "stdout",
     "output_type": "stream",
     "text": [
      "{'C': 2, 'kernel': 'rbf'}\n"
     ]
    }
   ],
   "source": [
    "param_grid = {\"C\" : [1, 2, 5, 10],\n",
    "            \"kernel\" : ['poly', 'rbf']}\n",
    "SVM_emb = svm.SVC()\n",
    "grid_search = GridSearchCV(SVM_emb, param_grid)\n",
    "grid_search.fit(train_emb, train_raw['rating'])\n",
    "print(grid_search.best_params_)"
   ]
  },
  {
   "cell_type": "code",
   "execution_count": 76,
   "id": "d29ec759-584d-4cc3-a0d4-9d66b3ff4736",
   "metadata": {},
   "outputs": [
    {
     "name": "stdout",
     "output_type": "stream",
     "text": [
      "Best Accuracy of SVM (emb):  0.9269090909090909\n"
     ]
    }
   ],
   "source": [
    "best_svm = svm.SVC(C=2, kernel='rbf')\n",
    "best_svm.fit(train_emb, train_raw['rating'])\n",
    "accuracy = best_svm.score(validation_emb, validation_raw['rating'])\n",
    "print(\"Best Accuracy of SVM (emb): \", accuracy)"
   ]
  },
  {
   "cell_type": "markdown",
   "id": "19f8b002-1b3e-41c9-8d1e-88ca4f889837",
   "metadata": {},
   "source": [
    "## Do the Classifers demonstrate Gender Bias?"
   ]
  },
  {
   "cell_type": "markdown",
   "id": "cf437cb3-2e63-47e6-b649-1516cdf8e012",
   "metadata": {},
   "source": [
    "## MLP"
   ]
  },
  {
   "cell_type": "markdown",
   "id": "28ac2a09-b868-4749-b600-7fa8989cb44a",
   "metadata": {},
   "source": [
    "#### emb"
   ]
  },
  {
   "cell_type": "code",
   "execution_count": 52,
   "id": "1edef49a-73e7-4ebf-b1fd-6212003e6a5c",
   "metadata": {},
   "outputs": [
    {
     "name": "stdout",
     "output_type": "stream",
     "text": [
      "Accuracy of MLP on male reviews (emb):  0.9193638392857143\n",
      "Accuracy of MLP on female reviews (emb):  0.8926014319809069\n"
     ]
    }
   ],
   "source": [
    "# Evaluate MLP on male subset\n",
    "accuracy_male_mlp = MLP_emb.score(validation_male_emb, validation_raw.loc[male_indices, 'rating'])\n",
    "\n",
    "# Evaluate MLP on female subset\n",
    "accuracy_female_mlp = MLP_emb.score(validation_female_emb, validation_raw.loc[female_indices, 'rating'])\n",
    "\n",
    "print(\"Accuracy of MLP on male reviews (emb): \", accuracy_male_mlp)\n",
    "print(\"Accuracy of MLP on female reviews (emb): \", accuracy_female_mlp)"
   ]
  },
  {
   "cell_type": "code",
   "execution_count": 181,
   "id": "dfbc9504-9e9e-436b-a6a9-e539d5d8d142",
   "metadata": {},
   "outputs": [
    {
     "data": {
      "text/plain": [
       "array([[ 819,  164],\n",
       "       [ 130, 2471]])"
      ]
     },
     "execution_count": 181,
     "metadata": {},
     "output_type": "execute_result"
    }
   ],
   "source": [
    "confusion_matrix(validation_raw.loc[male_indices, 'rating'], MLP_emb.predict(validation_male_emb))"
   ]
  },
  {
   "cell_type": "code",
   "execution_count": 186,
   "id": "717b845a-18a2-4047-ba59-b6cc493e6850",
   "metadata": {},
   "outputs": [
    {
     "name": "stdout",
     "output_type": "stream",
     "text": [
      "              precision    recall  f1-score   support\n",
      "\n",
      "          -1       0.86      0.83      0.85       983\n",
      "           1       0.94      0.95      0.94      2601\n",
      "\n",
      "    accuracy                           0.92      3584\n",
      "   macro avg       0.90      0.89      0.90      3584\n",
      "weighted avg       0.92      0.92      0.92      3584\n",
      "\n"
     ]
    }
   ],
   "source": [
    "print(classification_report(validation_raw.loc[male_indices, 'rating'], MLP_emb.predict(validation_male_emb)))"
   ]
  },
  {
   "cell_type": "code",
   "execution_count": 184,
   "id": "46de3aa7-3788-416a-b97d-b1aaf4d4d56c",
   "metadata": {},
   "outputs": [
    {
     "data": {
      "text/plain": [
       "array([[ 55,  32],\n",
       "       [ 11, 321]])"
      ]
     },
     "execution_count": 184,
     "metadata": {},
     "output_type": "execute_result"
    }
   ],
   "source": [
    "confusion_matrix(validation_raw.loc[female_indices, 'rating'], MLP_emb.predict(validation_female_emb))"
   ]
  },
  {
   "cell_type": "code",
   "execution_count": 185,
   "id": "d8de20c5-b41e-4838-9594-7ea9c93634a9",
   "metadata": {},
   "outputs": [
    {
     "name": "stdout",
     "output_type": "stream",
     "text": [
      "              precision    recall  f1-score   support\n",
      "\n",
      "          -1       0.83      0.63      0.72        87\n",
      "           1       0.91      0.97      0.94       332\n",
      "\n",
      "    accuracy                           0.90       419\n",
      "   macro avg       0.87      0.80      0.83       419\n",
      "weighted avg       0.89      0.90      0.89       419\n",
      "\n"
     ]
    }
   ],
   "source": [
    "print(classification_report(validation_raw.loc[female_indices, 'rating'], MLP_emb.predict(validation_female_emb)))"
   ]
  },
  {
   "cell_type": "markdown",
   "id": "0db7468a-dd7c-4beb-a20a-f9c1f753a76e",
   "metadata": {},
   "source": [
    "## SVM"
   ]
  },
  {
   "cell_type": "markdown",
   "id": "e15e090c-c0c8-4c4d-b5b1-e647c0451206",
   "metadata": {},
   "source": [
    "#### emb"
   ]
  },
  {
   "cell_type": "code",
   "execution_count": 112,
   "id": "8e48d208-1411-4859-bcd8-20291a796c97",
   "metadata": {},
   "outputs": [
    {
     "name": "stdout",
     "output_type": "stream",
     "text": [
      "Accuracy of SVM on male reviews(Emb):  0.92578125\n",
      "Accuracy of SVM on female reviews(Emb):  0.8973747016706444\n"
     ]
    }
   ],
   "source": [
    "# Evaluate SVM on male subset\n",
    "accuracy_male = SVM_emb.score(validation_male_emb, validation_raw.loc[male_indices, 'rating'])\n",
    "\n",
    "# Evaluate SVM on female subset\n",
    "accuracy_female = SVM_emb.score(validation_female_emb, validation_raw.loc[female_indices, 'rating'])\n",
    "\n",
    "print(\"Accuracy of SVM on male reviews(Emb): \", accuracy_male)\n",
    "print(\"Accuracy of SVM on female reviews(Emb): \", accuracy_female)"
   ]
  },
  {
   "cell_type": "code",
   "execution_count": 178,
   "id": "2738acf8-5f79-4eec-9bc1-ab51030d7898",
   "metadata": {},
   "outputs": [
    {
     "data": {
      "text/plain": [
       "array([[ 838,  145],\n",
       "       [ 121, 2480]])"
      ]
     },
     "execution_count": 178,
     "metadata": {},
     "output_type": "execute_result"
    }
   ],
   "source": [
    "confusion_matrix(validation_raw.loc[male_indices, 'rating'], SVM_emb.predict(validation_male_emb))"
   ]
  },
  {
   "cell_type": "code",
   "execution_count": 177,
   "id": "6c3a3b7b-c1e4-4892-93bd-6bdc28a21961",
   "metadata": {},
   "outputs": [
    {
     "name": "stdout",
     "output_type": "stream",
     "text": [
      "              precision    recall  f1-score   support\n",
      "\n",
      "          -1       0.87      0.85      0.86       983\n",
      "           1       0.94      0.95      0.95      2601\n",
      "\n",
      "    accuracy                           0.93      3584\n",
      "   macro avg       0.91      0.90      0.91      3584\n",
      "weighted avg       0.93      0.93      0.93      3584\n",
      "\n"
     ]
    }
   ],
   "source": [
    "print(classification_report(validation_raw.loc[male_indices, 'rating'], SVM_emb.predict(validation_male_emb)))"
   ]
  },
  {
   "cell_type": "code",
   "execution_count": 179,
   "id": "2ac505d7-b2cd-402f-a86b-c1dd7a76c566",
   "metadata": {},
   "outputs": [
    {
     "data": {
      "text/plain": [
       "array([[ 55,  32],\n",
       "       [ 11, 321]])"
      ]
     },
     "execution_count": 179,
     "metadata": {},
     "output_type": "execute_result"
    }
   ],
   "source": [
    "confusion_matrix(validation_raw.loc[female_indices, 'rating'], SVM_emb.predict(validation_female_emb))"
   ]
  },
  {
   "cell_type": "code",
   "execution_count": 180,
   "id": "0fa82080-d170-405f-9935-65a829877f2a",
   "metadata": {},
   "outputs": [
    {
     "name": "stdout",
     "output_type": "stream",
     "text": [
      "              precision    recall  f1-score   support\n",
      "\n",
      "          -1       0.83      0.63      0.72        87\n",
      "           1       0.91      0.97      0.94       332\n",
      "\n",
      "    accuracy                           0.90       419\n",
      "   macro avg       0.87      0.80      0.83       419\n",
      "weighted avg       0.89      0.90      0.89       419\n",
      "\n"
     ]
    }
   ],
   "source": [
    "print(classification_report(validation_raw.loc[female_indices, 'rating'], SVM_emb.predict(validation_female_emb)))"
   ]
  },
  {
   "cell_type": "markdown",
   "id": "8c3a70a5-7361-4ec2-9881-df2352abffaf",
   "metadata": {},
   "source": [
    "# Submission based on test dataset"
   ]
  },
  {
   "cell_type": "code",
   "execution_count": 94,
   "id": "d74dc023-5fd1-400b-99a3-16e433d60447",
   "metadata": {},
   "outputs": [],
   "source": [
    "SVM = svm.SVC(C=2, kernel='rbf')\n",
    "SVM.fit(train_emb, train_raw['rating'])\n",
    "predict = SVM.predict(test_emb)\n",
    "submission = pd.DataFrame({'id':range(0, len(predict)), 'rating':predict})"
   ]
  },
  {
   "cell_type": "code",
   "execution_count": 95,
   "id": "439f78d7-143f-4df3-912d-5227aff714d0",
   "metadata": {},
   "outputs": [
    {
     "data": {
      "text/html": [
       "<div>\n",
       "<style scoped>\n",
       "    .dataframe tbody tr th:only-of-type {\n",
       "        vertical-align: middle;\n",
       "    }\n",
       "\n",
       "    .dataframe tbody tr th {\n",
       "        vertical-align: top;\n",
       "    }\n",
       "\n",
       "    .dataframe thead th {\n",
       "        text-align: right;\n",
       "    }\n",
       "</style>\n",
       "<table border=\"1\" class=\"dataframe\">\n",
       "  <thead>\n",
       "    <tr style=\"text-align: right;\">\n",
       "      <th></th>\n",
       "      <th>id</th>\n",
       "      <th>rating</th>\n",
       "    </tr>\n",
       "  </thead>\n",
       "  <tbody>\n",
       "    <tr>\n",
       "      <th>0</th>\n",
       "      <td>0</td>\n",
       "      <td>1</td>\n",
       "    </tr>\n",
       "    <tr>\n",
       "      <th>1</th>\n",
       "      <td>1</td>\n",
       "      <td>1</td>\n",
       "    </tr>\n",
       "    <tr>\n",
       "      <th>2</th>\n",
       "      <td>2</td>\n",
       "      <td>1</td>\n",
       "    </tr>\n",
       "    <tr>\n",
       "      <th>3</th>\n",
       "      <td>3</td>\n",
       "      <td>1</td>\n",
       "    </tr>\n",
       "    <tr>\n",
       "      <th>4</th>\n",
       "      <td>4</td>\n",
       "      <td>1</td>\n",
       "    </tr>\n",
       "    <tr>\n",
       "      <th>...</th>\n",
       "      <td>...</td>\n",
       "      <td>...</td>\n",
       "    </tr>\n",
       "    <tr>\n",
       "      <th>5509</th>\n",
       "      <td>5509</td>\n",
       "      <td>-1</td>\n",
       "    </tr>\n",
       "    <tr>\n",
       "      <th>5510</th>\n",
       "      <td>5510</td>\n",
       "      <td>1</td>\n",
       "    </tr>\n",
       "    <tr>\n",
       "      <th>5511</th>\n",
       "      <td>5511</td>\n",
       "      <td>-1</td>\n",
       "    </tr>\n",
       "    <tr>\n",
       "      <th>5512</th>\n",
       "      <td>5512</td>\n",
       "      <td>-1</td>\n",
       "    </tr>\n",
       "    <tr>\n",
       "      <th>5513</th>\n",
       "      <td>5513</td>\n",
       "      <td>1</td>\n",
       "    </tr>\n",
       "  </tbody>\n",
       "</table>\n",
       "<p>5514 rows × 2 columns</p>\n",
       "</div>"
      ],
      "text/plain": [
       "        id  rating\n",
       "0        0       1\n",
       "1        1       1\n",
       "2        2       1\n",
       "3        3       1\n",
       "4        4       1\n",
       "...    ...     ...\n",
       "5509  5509      -1\n",
       "5510  5510       1\n",
       "5511  5511      -1\n",
       "5512  5512      -1\n",
       "5513  5513       1\n",
       "\n",
       "[5514 rows x 2 columns]"
      ]
     },
     "execution_count": 95,
     "metadata": {},
     "output_type": "execute_result"
    }
   ],
   "source": [
    "submission"
   ]
  },
  {
   "cell_type": "code",
   "execution_count": 96,
   "id": "5ff5cb19-c46d-412a-a7fb-3aa73cfec069",
   "metadata": {},
   "outputs": [],
   "source": [
    "submission.to_csv('Submission.csv', index=False)"
   ]
  },
  {
   "cell_type": "code",
   "execution_count": null,
   "id": "15d710e1-c93a-4607-89dd-032f79960185",
   "metadata": {},
   "outputs": [],
   "source": []
  }
 ],
 "metadata": {
  "kernelspec": {
   "display_name": "Python 3 (ipykernel)",
   "language": "python",
   "name": "python3"
  },
  "language_info": {
   "codemirror_mode": {
    "name": "ipython",
    "version": 3
   },
   "file_extension": ".py",
   "mimetype": "text/x-python",
   "name": "python",
   "nbconvert_exporter": "python",
   "pygments_lexer": "ipython3",
   "version": "3.9.6"
  }
 },
 "nbformat": 4,
 "nbformat_minor": 5
}
